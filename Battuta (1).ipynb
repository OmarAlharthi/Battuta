{
 "cells": [
  {
   "cell_type": "code",
   "execution_count": 2,
   "id": "7b496baf",
   "metadata": {},
   "outputs": [
    {
     "name": "stdout",
     "output_type": "stream",
     "text": [
      "Requirement already satisfied: cohere in c:\\users\\user\\anaconda3\\lib\\site-packages (4.5.1)\n",
      "Requirement already satisfied: aiohttp<4.0,>=3.0 in c:\\users\\user\\anaconda3\\lib\\site-packages (from cohere) (3.8.4)\n",
      "Requirement already satisfied: requests<3.0,>=2.0 in c:\\users\\user\\anaconda3\\lib\\site-packages (from cohere) (2.28.1)\n",
      "Requirement already satisfied: backoff<3.0,>=2.0 in c:\\users\\user\\anaconda3\\lib\\site-packages (from cohere) (2.2.1)\n",
      "Requirement already satisfied: multidict<7.0,>=4.5 in c:\\users\\user\\anaconda3\\lib\\site-packages (from aiohttp<4.0,>=3.0->cohere) (6.0.4)\n",
      "Requirement already satisfied: aiosignal>=1.1.2 in c:\\users\\user\\anaconda3\\lib\\site-packages (from aiohttp<4.0,>=3.0->cohere) (1.3.1)\n",
      "Requirement already satisfied: attrs>=17.3.0 in c:\\users\\user\\anaconda3\\lib\\site-packages (from aiohttp<4.0,>=3.0->cohere) (21.4.0)\n",
      "Requirement already satisfied: yarl<2.0,>=1.0 in c:\\users\\user\\anaconda3\\lib\\site-packages (from aiohttp<4.0,>=3.0->cohere) (1.9.2)\n",
      "Requirement already satisfied: frozenlist>=1.1.1 in c:\\users\\user\\anaconda3\\lib\\site-packages (from aiohttp<4.0,>=3.0->cohere) (1.3.3)\n",
      "Requirement already satisfied: async-timeout<5.0,>=4.0.0a3 in c:\\users\\user\\anaconda3\\lib\\site-packages (from aiohttp<4.0,>=3.0->cohere) (4.0.2)\n",
      "Requirement already satisfied: charset-normalizer<4.0,>=2.0 in c:\\users\\user\\anaconda3\\lib\\site-packages (from aiohttp<4.0,>=3.0->cohere) (2.0.4)\n",
      "Requirement already satisfied: idna<4,>=2.5 in c:\\users\\user\\anaconda3\\lib\\site-packages (from requests<3.0,>=2.0->cohere) (3.3)\n",
      "Requirement already satisfied: certifi>=2017.4.17 in c:\\users\\user\\anaconda3\\lib\\site-packages (from requests<3.0,>=2.0->cohere) (2022.9.14)\n",
      "Requirement already satisfied: urllib3<1.27,>=1.21.1 in c:\\users\\user\\anaconda3\\lib\\site-packages (from requests<3.0,>=2.0->cohere) (1.26.11)\n"
     ]
    }
   ],
   "source": [
    "! pip install cohere\n"
   ]
  },
  {
   "cell_type": "code",
   "execution_count": 3,
   "id": "9e754f7b",
   "metadata": {},
   "outputs": [],
   "source": [
    "import cohere  \n",
    "co = cohere.Client('t0UzEUyWPoXfohjWL7LUqyI7XiinxY3DgiWwtsJu')"
   ]
  },
  {
   "cell_type": "code",
   "execution_count": 4,
   "id": "18fbd238",
   "metadata": {},
   "outputs": [],
   "source": [
    "from cohere.responses.classify import Example\n",
    "\n",
    "\n",
    "examples=[\n",
    "  Example(\"How do I find my insurance policy?\", \"Finding policy details\"),\n",
    "  Example(\"How do I download a copy of my insurance policy?\", \"Finding policy details\"),\n",
    "  Example(\"How do I find my policy effective date?\", \"Finding policy details\"),\n",
    "  Example(\"When does my insurance policy end?\", \"Finding policy details\"),\n",
    "  Example(\"Could you please tell me the date my policy becomes effective?\", \"Finding policy details\"),\n",
    "  Example(\"How do I sign up for electronic filing?\", \"Change account settings\"),\n",
    "  Example(\"How do I change my policy?\", \"Change account settings\"),\n",
    "  Example(\"How do I sign up for direct deposit?\", \"Change account settings\"),\n",
    "  Example(\"I want direct deposit. Can you help with that?\", \"Change account settings\"),\n",
    "  Example(\"Could you deposit money into my account rather than mailing me a physical cheque?\", \"Change account settings\"),\n",
    "  Example(\"How do I file an insurance claim?\", \"Filing a claim and viewing status\"),\n",
    "  Example(\"How do I file a reimbursement claim?\", \"Filing a claim and viewing status\"),\n",
    "  Example(\"How do I check my claim status?\", \"Filing a claim and viewing status\"),\n",
    "  Example(\"When will my claim be reimbursed?\", \"Filing a claim and viewing status\"),\n",
    "  Example(\"I filed my claim 2 weeks ago but I still haven’t received a deposit for it.\", \"Filing a claim and viewing status\"),\n",
    "  Example(\"I want to cancel my policy immediately! This is nonsense.\", \"Cancelling coverage\"),\n",
    "  Example(\"Could you please help my end my insurance coverage? Thank you.\",\n",
    "  \"Cancelling coverage\"),\n",
    "  Example(\"Your service sucks. I’m switching providers. Cancel my coverage.\", \"Cancelling coverage\"),\n",
    "  Example(\"Hello there! How do I cancel my coverage?\", \"Cancelling coverage\"),\n",
    "  Example(\"How do I delete my account?\", \"Cancelling coverage\")\n",
    "]\n"
   ]
  },
  {
   "cell_type": "code",
   "execution_count": 21,
   "id": "f19b7e5e",
   "metadata": {},
   "outputs": [],
   "source": [
    "prompt = \"user for their interests and location, and then generate a personalized plan for their trip based on their preferences. Your app will also provide recommendations for hotels, restaurants, and attractions in the destination.\""
   ]
  },
  {
   "cell_type": "code",
   "execution_count": 22,
   "id": "6cc7be63",
   "metadata": {},
   "outputs": [],
   "source": [
    "response = co.generate(  \n",
    "    model='command-nightly',  \n",
    "    prompt = prompt,  \n",
    "    max_tokens=200,  \n",
    "    temperature=0.750)\n",
    "  "
   ]
  },
  {
   "cell_type": "code",
   "execution_count": 23,
   "id": "1d6f2dd0",
   "metadata": {},
   "outputs": [],
   "source": [
    "\n",
    "intro_paragraph = response.generations[0].text"
   ]
  },
  {
   "cell_type": "code",
   "execution_count": 24,
   "id": "bbcedc34",
   "metadata": {},
   "outputs": [
    {
     "name": "stdout",
     "output_type": "stream",
     "text": [
      "\n",
      "As an AI travel assistant, your app will need to gather information about the user's interests and location. This can be done through a questionnaire or survey, which will ask the user about their preferred activities, destinations, and budget. You can also use AI to analyze the user's previous travel history and social media activity to gain insights into their interests and preferences.\n",
      "\n",
      "Once this information has been collected, your app will need to generate a personalized plan for the user's trip. This plan will include recommendations for hotels, restaurants, and attractions that align with the user's interests and preferences. You can use AI to rank these recommendations based on the user's budget and preferences.\n",
      "\n",
      "In addition to generating a personalized plan, your app will also need to provide real-time updates and recommendations during the user's trip. This can include suggestions for activities and attractions that the user may enjoy, as well as recommendations for restaurants and hotels that are nearby. You can use AI to analyze the user's\n"
     ]
    }
   ],
   "source": [
    "\n",
    "print(intro_paragraph)"
   ]
  },
  {
   "cell_type": "code",
   "execution_count": null,
   "id": "804e3f3c",
   "metadata": {},
   "outputs": [],
   "source": [
    "\n"
   ]
  },
  {
   "cell_type": "code",
   "execution_count": null,
   "id": "3d19a56d",
   "metadata": {},
   "outputs": [],
   "source": [
    "from cohere.responses.classify import Example\n",
    "\n",
    "\n",
    "examples=[\n",
    "  #Example(\"How do I find my insurance policy?\", \"Finding policy details\"),\n",
    "  #Example(\"How do I download a copy of my insurance policy?\", \"Finding policy details\"),\n",
    "  #Example(\"How do I find my policy effective date?\", \"Finding policy details\"),\n",
    "  #Example(\"When does my insurance policy end?\", \"Finding policy details\"),\n",
    "  #Example(\"Could you please tell me the date my policy becomes effective?\", \"Finding policy details\"),\n",
    "  #Example(\"How do I sign up for electronic filing?\", \"Change account settings\"),\n",
    "  #Example(\"How do I change my policy?\", \"Change account settings\"),\n",
    "  #Example(\"How do I sign up for direct deposit?\", \"Change account settings\"),\n",
    "  #Example(\"I want direct deposit. Can you help with that?\", \"Change account settings\"),\n",
    "  \"how how transform to a robot\", \"how to toast a backbag\"\n",
    "  #Example(\"Could you deposit money into my account rather than mailing me a physical cheque?\", \"Change account settings\"),\n",
    "  #Example(\"How do I file an insurance claim?\", \"Filing a claim and viewing status\"),\n",
    "  #Example(\"How do I file a reimbursement claim?\", \"Filing a claim and viewing status\"),\n",
    "  #Example(\"How do I check my claim status?\", \"Filing a claim and viewing status\"),\n",
    "  #Example(\"When will my claim be reimbursed?\", \"Filing a claim and viewing status\"),\n",
    "  #Example(\"I filed my claim 2 weeks ago but I still haven’t received a deposit for it.\", \"Filing a claim and viewing status\"),\n",
    "  #Example(\"I want to cancel my policy immediately! This is nonsense.\", \"Cancelling coverage\"),\n",
    "  #Example(\"Could you please help my end my insurance coverage? Thank you.\",\n",
    "  #\"Cancelling coverage\"),\n",
    "  #Example(\"Your service sucks. I’m switching providers. Cancel my coverage.\", \"Cancelling coverage\"),\n",
    "  #Example(\"Hello there! How do I cancel my coverage?\", \"Cancelling coverage\"),\n",
    "  #Example(\"How do I delete my account?\", \"Cancelling coverage\")\n",
    "]"
   ]
  },
  {
   "cell_type": "code",
   "execution_count": null,
   "id": "e45bee2d",
   "metadata": {},
   "outputs": [],
   "source": [
    "intro_paragraph = response.generations[0].text"
   ]
  },
  {
   "cell_type": "code",
   "execution_count": null,
   "id": "2d447c59",
   "metadata": {},
   "outputs": [],
   "source": [
    "response = co.generate(  \n",
    "    model='command-nightly',  \n",
    "    prompt = prompt,  \n",
    "    max_tokens=200,  \n",
    "    temperature=0.750)"
   ]
  },
  {
   "cell_type": "code",
   "execution_count": null,
   "id": "5ed7e003",
   "metadata": {},
   "outputs": [],
   "source": [
    "print(intro_paragraph)"
   ]
  },
  {
   "cell_type": "code",
   "execution_count": 26,
   "id": "28601cef",
   "metadata": {},
   "outputs": [
    {
     "name": "stdout",
     "output_type": "stream",
     "text": [
      "\n",
      "As an AI travel assistant, your app will need to gather information about the user's interests and location. This can be done through a questionnaire or survey, which will ask the user about their preferred activities, destinations, and budget. You can also use AI to analyze the user's previous travel history and social media activity to gain insights into their interests and preferences.\n",
      "\n",
      "Once this information has been collected, your app will need to generate a personalized plan for the user's trip. This plan will include recommendations for hotels, restaurants, and attractions that align with the user's interests and preferences. You can use AI to rank these recommendations based on the user's budget and preferences.\n",
      "\n",
      "In addition to generating a personalized plan, your app will also need to provide real-time updates and recommendations during the user's trip. This can include suggestions for activities and attractions that the user may enjoy, as well as recommendations for restaurants and hotels that are nearby. You can use AI to analyze the user's\n"
     ]
    }
   ],
   "source": [
    "print(intro_paragraph)"
   ]
  },
  {
   "cell_type": "code",
   "execution_count": 27,
   "id": "2da3bf09",
   "metadata": {},
   "outputs": [],
   "source": [
    "response = co.generate(  \n",
    "    model='command-nightly',  \n",
    "    prompt = prompt,  \n",
    "    max_tokens=200,  \n",
    "    temperature=0.750)"
   ]
  },
  {
   "cell_type": "code",
   "execution_count": 28,
   "id": "7c62937e",
   "metadata": {},
   "outputs": [],
   "source": [
    "intro_paragraph = response.generations[0].text"
   ]
  },
  {
   "cell_type": "code",
   "execution_count": 29,
   "id": "a0c7dd8e",
   "metadata": {},
   "outputs": [
    {
     "name": "stdout",
     "output_type": "stream",
     "text": [
      "\n",
      "If the user is interested in a beach vacation, your app will suggest hotels and restaurants that are near the beach. If the user is interested in a more urban vacation, your app will suggest hotels and restaurants that are located in the city.\n"
     ]
    }
   ],
   "source": [
    "print(intro_paragraph)"
   ]
  },
  {
   "cell_type": "code",
   "execution_count": null,
   "id": "bd4d1b9d",
   "metadata": {},
   "outputs": [],
   "source": []
  }
 ],
 "metadata": {
  "kernelspec": {
   "display_name": "Python 3 (ipykernel)",
   "language": "python",
   "name": "python3"
  },
  "language_info": {
   "codemirror_mode": {
    "name": "ipython",
    "version": 3
   },
   "file_extension": ".py",
   "mimetype": "text/x-python",
   "name": "python",
   "nbconvert_exporter": "python",
   "pygments_lexer": "ipython3",
   "version": "3.9.13"
  }
 },
 "nbformat": 4,
 "nbformat_minor": 5
}
